{
 "cells": [
  {
   "cell_type": "code",
   "execution_count": 2,
   "id": "d410c21f",
   "metadata": {},
   "outputs": [
    {
     "name": "stdout",
     "output_type": "stream",
     "text": [
      "Intercept: 33.88310421876116\n",
      "Slope: -0.9033640298075836\n"
     ]
    },
    {
     "data": {
      "image/png": "[encoded data removed]",
      "text/plain": [
       "<Figure size 432x288 with 1 Axes>"
      ]
     },
     "metadata": {
      "needs_background": "light"
     },
     "output_type": "display_data"
    },
    {
     "name": "stdout",
     "output_type": "stream",
     "text": [
      "mse: 39.126, mae: 4.315\n",
      "RMSE: 0.598\n"
     ]
    }
   ],
   "source": [
    "import numpy as np\n",
    "from scipy.stats import t\n",
    "from scipy.stats import norm\n",
    "import matplotlib.pyplot as plt\n",
    "from scipy import stats\n",
    "import pandas as pd\n",
    "import io\n",
    "import requests\n",
    "import seaborn as sns\n",
    "\n",
    "%matplotlib inline\n",
    "from sklearn.model_selection import train_test_split\n",
    "from sklearn.linear_model import LinearRegression \n",
    "\n",
    "names = ['CRIM', 'ZN', 'INDUS', 'CHAS', 'NOX', 'RM', 'AGE', 'DIS', 'RAD', 'TAX', 'PTRATIO', 'B', 'LSTAT', 'MEDV']\n",
    "data=pd.read_csv('boston.csv', names=names,skiprows=1)\n",
    "data.head()\n",
    "\n",
    "X=data.iloc[:,-2].values\n",
    "Y=data.iloc[:,-1].values\n",
    "# Razdelenie na testovyu i obuchenie\n",
    "x_train, x_test, y_train, y_test = train_test_split(X, Y, test_size=0.2)\n",
    "\n",
    "x_train= x_train.reshape(-1, 1)\n",
    "y_train= y_train.reshape(-1, 1)\n",
    "x_test = x_test.reshape(-1, 1)\n",
    "# Postroenie lineynoy regressii\n",
    "regress= LinearRegression()\n",
    "regress.fit(x_train,y_train)\n",
    "print('Intercept:', regress.intercept_[0])\n",
    "print('Slope:', regress.coef_[0][0])\n",
    "y_pred = regress.predict(x_test)\n",
    "# Ravel - для схлопывания вектора в массив\n",
    "datas = pd.DataFrame({'values':x_test.ravel(), 'Actual': y_test, 'Predicted': y_pred.ravel()})\n",
    "# Grafic\n",
    "plt.scatter(datas['values'],datas['Actual'])\n",
    "plt.plot(datas['values'],datas['Predicted'],color='red')\n",
    "plt.show()\n",
    "# eror\n",
    "from sklearn.metrics import mean_squared_error\n",
    "from sklearn.metrics import mean_absolute_error\n",
    "\n",
    "mse = mean_squared_error(y_test, y_pred)\n",
    "mae = mean_absolute_error(y_test, y_pred)\n",
    "print('mse: %.3f, mae: %.3f' % (mse, mae))\n",
    "\n",
    "rmse=1-(mean_squared_error(y_test, y_pred)/np.var(y_test))\n",
    "print('RMSE: %.3f' % (rmse))"
   ]
  },
  {
   "cell_type": "code",
   "execution_count": null,
   "id": "fe2e9ca3",
   "metadata": {},
   "outputs": [],
   "source": []
  }
 ],
 "metadata": {
  "kernelspec": {
   "display_name": "Python 3",
   "language": "python",
   "name": "python3"
  },
  "language_info": {
   "codemirror_mode": {
    "name": "ipython",
    "version": 3
   },
   "file_extension": ".py",
   "mimetype": "text/x-python",
   "name": "python",
   "nbconvert_exporter": "python",
   "pygments_lexer": "ipython3",
   "version": "3.8.8"
  }
 },
 "nbformat": 4,
 "nbformat_minor": 5
}
